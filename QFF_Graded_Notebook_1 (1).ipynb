{
 "cells": [
  {
   "cell_type": "code",
   "execution_count": 1,
   "id": "057eb7c1-b754-4729-aca9-39f5dc373bb1",
   "metadata": {},
   "outputs": [
    {
     "name": "stdout",
     "output_type": "stream",
     "text": [
      "Requirement already satisfied: qiskit[visualization] in ./.qbraid/environments/qbraid_sdk_9j9sjy/pyenv/lib/python3.11/site-packages (1.2.4)\n",
      "Requirement already satisfied: rustworkx>=0.15.0 in ./.qbraid/environments/qbraid_sdk_9j9sjy/pyenv/lib/python3.11/site-packages (from qiskit[visualization]) (0.15.1)\n",
      "Requirement already satisfied: numpy<3,>=1.17 in ./.qbraid/environments/qbraid_sdk_9j9sjy/pyenv/lib/python3.11/site-packages (from qiskit[visualization]) (1.26.4)\n",
      "Requirement already satisfied: scipy>=1.5 in ./.qbraid/environments/qbraid_sdk_9j9sjy/pyenv/lib/python3.11/site-packages (from qiskit[visualization]) (1.14.1)\n",
      "Requirement already satisfied: sympy>=1.3 in ./.qbraid/environments/qbraid_sdk_9j9sjy/pyenv/lib/python3.11/site-packages (from qiskit[visualization]) (1.13.3)\n",
      "Requirement already satisfied: dill>=0.3 in ./.qbraid/environments/qbraid_sdk_9j9sjy/pyenv/lib/python3.11/site-packages (from qiskit[visualization]) (0.3.9)\n",
      "Requirement already satisfied: python-dateutil>=2.8.0 in ./.qbraid/environments/qbraid_sdk_9j9sjy/pyenv/lib/python3.11/site-packages (from qiskit[visualization]) (2.9.0.post0)\n",
      "Requirement already satisfied: stevedore>=3.0.0 in ./.qbraid/environments/qbraid_sdk_9j9sjy/pyenv/lib/python3.11/site-packages (from qiskit[visualization]) (5.3.0)\n",
      "Requirement already satisfied: typing-extensions in ./.qbraid/environments/qbraid_sdk_9j9sjy/pyenv/lib/python3.11/site-packages (from qiskit[visualization]) (4.12.2)\n",
      "Requirement already satisfied: symengine<0.14,>=0.11 in ./.qbraid/environments/qbraid_sdk_9j9sjy/pyenv/lib/python3.11/site-packages (from qiskit[visualization]) (0.13.0)\n",
      "Requirement already satisfied: matplotlib>=3.3 in ./.qbraid/environments/qbraid_sdk_9j9sjy/pyenv/lib/python3.11/site-packages (from qiskit[visualization]) (3.9.2)\n",
      "Collecting pydot (from qiskit[visualization])\n",
      "  Downloading pydot-3.0.2-py3-none-any.whl.metadata (10 kB)\n",
      "Requirement already satisfied: Pillow>=4.2.1 in ./.qbraid/environments/qbraid_sdk_9j9sjy/pyenv/lib/python3.11/site-packages (from qiskit[visualization]) (10.4.0)\n",
      "Collecting pylatexenc>=1.4 (from qiskit[visualization])\n",
      "  Downloading pylatexenc-2.10.tar.gz (162 kB)\n",
      "  Preparing metadata (setup.py) ... \u001b[?25ldone\n",
      "\u001b[?25hCollecting seaborn>=0.9.0 (from qiskit[visualization])\n",
      "  Downloading seaborn-0.13.2-py3-none-any.whl.metadata (5.4 kB)\n",
      "Requirement already satisfied: contourpy>=1.0.1 in ./.qbraid/environments/qbraid_sdk_9j9sjy/pyenv/lib/python3.11/site-packages (from matplotlib>=3.3->qiskit[visualization]) (1.3.0)\n",
      "Requirement already satisfied: cycler>=0.10 in ./.qbraid/environments/qbraid_sdk_9j9sjy/pyenv/lib/python3.11/site-packages (from matplotlib>=3.3->qiskit[visualization]) (0.12.1)\n",
      "Requirement already satisfied: fonttools>=4.22.0 in ./.qbraid/environments/qbraid_sdk_9j9sjy/pyenv/lib/python3.11/site-packages (from matplotlib>=3.3->qiskit[visualization]) (4.54.1)\n",
      "Requirement already satisfied: kiwisolver>=1.3.1 in ./.qbraid/environments/qbraid_sdk_9j9sjy/pyenv/lib/python3.11/site-packages (from matplotlib>=3.3->qiskit[visualization]) (1.4.7)\n",
      "Requirement already satisfied: packaging>=20.0 in ./.qbraid/environments/qbraid_sdk_9j9sjy/pyenv/lib/python3.11/site-packages (from matplotlib>=3.3->qiskit[visualization]) (23.2)\n",
      "Requirement already satisfied: pyparsing>=2.3.1 in ./.qbraid/environments/qbraid_sdk_9j9sjy/pyenv/lib/python3.11/site-packages (from matplotlib>=3.3->qiskit[visualization]) (3.2.0)\n",
      "Requirement already satisfied: six>=1.5 in ./.qbraid/environments/qbraid_sdk_9j9sjy/pyenv/lib/python3.11/site-packages (from python-dateutil>=2.8.0->qiskit[visualization]) (1.16.0)\n",
      "Requirement already satisfied: pandas>=1.2 in ./.qbraid/environments/qbraid_sdk_9j9sjy/pyenv/lib/python3.11/site-packages (from seaborn>=0.9.0->qiskit[visualization]) (2.2.3)\n",
      "Requirement already satisfied: pbr>=2.0.0 in ./.qbraid/environments/qbraid_sdk_9j9sjy/pyenv/lib/python3.11/site-packages (from stevedore>=3.0.0->qiskit[visualization]) (6.1.0)\n",
      "Requirement already satisfied: mpmath<1.4,>=1.1.0 in ./.qbraid/environments/qbraid_sdk_9j9sjy/pyenv/lib/python3.11/site-packages (from sympy>=1.3->qiskit[visualization]) (1.3.0)\n",
      "Requirement already satisfied: pytz>=2020.1 in ./.qbraid/environments/qbraid_sdk_9j9sjy/pyenv/lib/python3.11/site-packages (from pandas>=1.2->seaborn>=0.9.0->qiskit[visualization]) (2024.2)\n",
      "Requirement already satisfied: tzdata>=2022.7 in ./.qbraid/environments/qbraid_sdk_9j9sjy/pyenv/lib/python3.11/site-packages (from pandas>=1.2->seaborn>=0.9.0->qiskit[visualization]) (2024.2)\n",
      "Downloading seaborn-0.13.2-py3-none-any.whl (294 kB)\n",
      "Downloading pydot-3.0.2-py3-none-any.whl (35 kB)\n",
      "Building wheels for collected packages: pylatexenc\n",
      "  Building wheel for pylatexenc (setup.py) ... \u001b[?25ldone\n",
      "\u001b[?25h  Created wheel for pylatexenc: filename=pylatexenc-2.10-py3-none-any.whl size=136816 sha256=88c44326a4677114c2bdb88bf84d5d1a83d4798765d68d1de45c1df255aa74b6\n",
      "  Stored in directory: /home/jovyan/.cache/pip/wheels/b1/7a/33/9fdd892f784ed4afda62b685ae3703adf4c91aa0f524c28f03\n",
      "Successfully built pylatexenc\n",
      "Installing collected packages: pylatexenc, pydot, seaborn\n",
      "Successfully installed pydot-3.0.2 pylatexenc-2.10 seaborn-0.13.2\n",
      "Note: you may need to restart the kernel to use updated packages.\n"
     ]
    }
   ],
   "source": [
    "### INSTALL QISKIT inside your cloud-based environment\n",
    "\n",
    "%pip install qiskit[visualization]\n"
   ]
  },
  {
   "cell_type": "code",
   "execution_count": 2,
   "id": "1ede6302-908e-4197-8522-5c255febb73f",
   "metadata": {},
   "outputs": [
    {
     "name": "stdout",
     "output_type": "stream",
     "text": [
      "Collecting qiskit_aer\n",
      "  Downloading qiskit_aer-0.15.1-cp311-cp311-manylinux_2_17_x86_64.manylinux2014_x86_64.whl.metadata (8.0 kB)\n",
      "Collecting qiskit>=1.1.0 (from qiskit_aer)\n",
      "  Downloading qiskit-1.2.4-cp38-abi3-manylinux_2_17_x86_64.manylinux2014_x86_64.whl.metadata (12 kB)\n",
      "Requirement already satisfied: numpy>=1.16.3 in /opt/conda/lib/python3.11/site-packages (from qiskit_aer) (1.26.4)\n",
      "Collecting scipy>=1.0 (from qiskit_aer)\n",
      "  Downloading scipy-1.14.1-cp311-cp311-manylinux_2_17_x86_64.manylinux2014_x86_64.whl.metadata (60 kB)\n",
      "Requirement already satisfied: psutil>=5 in /opt/conda/lib/python3.11/site-packages (from qiskit_aer) (5.9.8)\n",
      "Collecting rustworkx>=0.15.0 (from qiskit>=1.1.0->qiskit_aer)\n",
      "  Downloading rustworkx-0.15.1-cp38-abi3-manylinux_2_17_x86_64.manylinux2014_x86_64.whl.metadata (9.9 kB)\n",
      "Collecting sympy>=1.3 (from qiskit>=1.1.0->qiskit_aer)\n",
      "  Downloading sympy-1.13.3-py3-none-any.whl.metadata (12 kB)\n",
      "Collecting dill>=0.3 (from qiskit>=1.1.0->qiskit_aer)\n",
      "  Downloading dill-0.3.9-py3-none-any.whl.metadata (10 kB)\n",
      "Requirement already satisfied: python-dateutil>=2.8.0 in /opt/conda/lib/python3.11/site-packages (from qiskit>=1.1.0->qiskit_aer) (2.9.0)\n",
      "Collecting stevedore>=3.0.0 (from qiskit>=1.1.0->qiskit_aer)\n",
      "  Downloading stevedore-5.3.0-py3-none-any.whl.metadata (2.3 kB)\n",
      "Requirement already satisfied: typing-extensions in /opt/conda/lib/python3.11/site-packages (from qiskit>=1.1.0->qiskit_aer) (4.11.0)\n",
      "Collecting symengine<0.14,>=0.11 (from qiskit>=1.1.0->qiskit_aer)\n",
      "  Downloading symengine-0.13.0-cp311-cp311-manylinux_2_17_x86_64.manylinux2014_x86_64.whl.metadata (1.2 kB)\n",
      "Requirement already satisfied: six>=1.5 in /opt/conda/lib/python3.11/site-packages (from python-dateutil>=2.8.0->qiskit>=1.1.0->qiskit_aer) (1.16.0)\n",
      "Collecting pbr>=2.0.0 (from stevedore>=3.0.0->qiskit>=1.1.0->qiskit_aer)\n",
      "  Downloading pbr-6.1.0-py2.py3-none-any.whl.metadata (3.4 kB)\n",
      "Collecting mpmath<1.4,>=1.1.0 (from sympy>=1.3->qiskit>=1.1.0->qiskit_aer)\n",
      "  Downloading mpmath-1.3.0-py3-none-any.whl.metadata (8.6 kB)\n",
      "Downloading qiskit_aer-0.15.1-cp311-cp311-manylinux_2_17_x86_64.manylinux2014_x86_64.whl (12.3 MB)\n",
      "\u001b[2K   \u001b[90m━━━━━━━━━━━━━━━━━━━━━━━━━━━━━━━━━━━━━━━━\u001b[0m \u001b[32m12.3/12.3 MB\u001b[0m \u001b[31m86.7 MB/s\u001b[0m eta \u001b[36m0:00:00\u001b[0m\n",
      "\u001b[?25hDownloading qiskit-1.2.4-cp38-abi3-manylinux_2_17_x86_64.manylinux2014_x86_64.whl (4.8 MB)\n",
      "\u001b[2K   \u001b[90m━━━━━━━━━━━━━━━━━━━━━━━━━━━━━━━━━━━━━━━━\u001b[0m \u001b[32m4.8/4.8 MB\u001b[0m \u001b[31m56.8 MB/s\u001b[0m eta \u001b[36m0:00:00\u001b[0m\n",
      "\u001b[?25hDownloading scipy-1.14.1-cp311-cp311-manylinux_2_17_x86_64.manylinux2014_x86_64.whl (41.2 MB)\n",
      "\u001b[2K   \u001b[90m━━━━━━━━━━━━━━━━━━━━━━━━━━━━━━━━━━━━━━━━\u001b[0m \u001b[32m41.2/41.2 MB\u001b[0m \u001b[31m140.7 MB/s\u001b[0m eta \u001b[36m0:00:00\u001b[0m00:01\u001b[0m\n",
      "\u001b[?25hDownloading dill-0.3.9-py3-none-any.whl (119 kB)\n",
      "Downloading rustworkx-0.15.1-cp38-abi3-manylinux_2_17_x86_64.manylinux2014_x86_64.whl (2.0 MB)\n",
      "\u001b[2K   \u001b[90m━━━━━━━━━━━━━━━━━━━━━━━━━━━━━━━━━━━━━━━━\u001b[0m \u001b[32m2.0/2.0 MB\u001b[0m \u001b[31m34.5 MB/s\u001b[0m eta \u001b[36m0:00:00\u001b[0m\n",
      "\u001b[?25hDownloading stevedore-5.3.0-py3-none-any.whl (49 kB)\n",
      "Downloading symengine-0.13.0-cp311-cp311-manylinux_2_17_x86_64.manylinux2014_x86_64.whl (49.7 MB)\n",
      "\u001b[2K   \u001b[90m━━━━━━━━━━━━━━━━━━━━━━━━━━━━━━━━━━━━━━━━\u001b[0m \u001b[32m49.7/49.7 MB\u001b[0m \u001b[31m128.7 MB/s\u001b[0m eta \u001b[36m0:00:00\u001b[0ma \u001b[36m0:00:01\u001b[0m\n",
      "\u001b[?25hDownloading sympy-1.13.3-py3-none-any.whl (6.2 MB)\n",
      "\u001b[2K   \u001b[90m━━━━━━━━━━━━━━━━━━━━━━━━━━━━━━━━━━━━━━━━\u001b[0m \u001b[32m6.2/6.2 MB\u001b[0m \u001b[31m72.0 MB/s\u001b[0m eta \u001b[36m0:00:00\u001b[0m\n",
      "\u001b[?25hDownloading mpmath-1.3.0-py3-none-any.whl (536 kB)\n",
      "\u001b[2K   \u001b[90m━━━━━━━━━━━━━━━━━━━━━━━━━━━━━━━━━━━━━━━━\u001b[0m \u001b[32m536.2/536.2 kB\u001b[0m \u001b[31m8.2 MB/s\u001b[0m eta \u001b[36m0:00:00\u001b[0m\n",
      "\u001b[?25hDownloading pbr-6.1.0-py2.py3-none-any.whl (108 kB)\n",
      "Installing collected packages: mpmath, sympy, symengine, scipy, rustworkx, pbr, dill, stevedore, qiskit, qiskit_aer\n",
      "Successfully installed dill-0.3.9 mpmath-1.3.0 pbr-6.1.0 qiskit-1.2.4 qiskit_aer-0.15.1 rustworkx-0.15.1 scipy-1.14.1 stevedore-5.3.0 symengine-0.13.0 sympy-1.13.3\n",
      "Collecting qiskit_ibm_runtime\n",
      "  Downloading qiskit_ibm_runtime-0.31.0-py3-none-any.whl.metadata (19 kB)\n",
      "Requirement already satisfied: requests>=2.19 in /opt/conda/lib/python3.11/site-packages (from qiskit_ibm_runtime) (2.31.0)\n",
      "Collecting requests-ntlm>=1.1.0 (from qiskit_ibm_runtime)\n",
      "  Downloading requests_ntlm-1.3.0-py3-none-any.whl.metadata (2.4 kB)\n",
      "Requirement already satisfied: numpy>=1.13 in /opt/conda/lib/python3.11/site-packages (from qiskit_ibm_runtime) (1.26.4)\n",
      "Requirement already satisfied: urllib3>=1.21.1 in /opt/conda/lib/python3.11/site-packages (from qiskit_ibm_runtime) (2.2.1)\n",
      "Requirement already satisfied: python-dateutil>=2.8.0 in /opt/conda/lib/python3.11/site-packages (from qiskit_ibm_runtime) (2.9.0)\n",
      "Requirement already satisfied: websocket-client>=1.5.1 in /opt/conda/lib/python3.11/site-packages (from qiskit_ibm_runtime) (1.8.0)\n",
      "Collecting ibm-platform-services>=0.22.6 (from qiskit_ibm_runtime)\n",
      "  Downloading ibm_platform_services-0.58.0-py3-none-any.whl.metadata (9.0 kB)\n",
      "Requirement already satisfied: pydantic>=2.5.0 in /opt/conda/lib/python3.11/site-packages (from qiskit_ibm_runtime) (2.9.2)\n",
      "Requirement already satisfied: qiskit>=1.1.0 in /opt/conda/lib/python3.11/site-packages (from qiskit_ibm_runtime) (1.2.4)\n",
      "Collecting ibm-cloud-sdk-core<4.0.0,>=3.22.0 (from ibm-platform-services>=0.22.6->qiskit_ibm_runtime)\n",
      "  Downloading ibm_cloud_sdk_core-3.22.0-py3-none-any.whl.metadata (8.6 kB)\n",
      "Requirement already satisfied: annotated-types>=0.6.0 in /opt/conda/lib/python3.11/site-packages (from pydantic>=2.5.0->qiskit_ibm_runtime) (0.7.0)\n",
      "Requirement already satisfied: pydantic-core==2.23.4 in /opt/conda/lib/python3.11/site-packages (from pydantic>=2.5.0->qiskit_ibm_runtime) (2.23.4)\n",
      "Requirement already satisfied: typing-extensions>=4.6.1 in /opt/conda/lib/python3.11/site-packages (from pydantic>=2.5.0->qiskit_ibm_runtime) (4.11.0)\n",
      "Requirement already satisfied: six>=1.5 in /opt/conda/lib/python3.11/site-packages (from python-dateutil>=2.8.0->qiskit_ibm_runtime) (1.16.0)\n",
      "Requirement already satisfied: rustworkx>=0.15.0 in /opt/conda/lib/python3.11/site-packages (from qiskit>=1.1.0->qiskit_ibm_runtime) (0.15.1)\n",
      "Requirement already satisfied: scipy>=1.5 in /opt/conda/lib/python3.11/site-packages (from qiskit>=1.1.0->qiskit_ibm_runtime) (1.14.1)\n",
      "Requirement already satisfied: sympy>=1.3 in /opt/conda/lib/python3.11/site-packages (from qiskit>=1.1.0->qiskit_ibm_runtime) (1.13.3)\n",
      "Requirement already satisfied: dill>=0.3 in /opt/conda/lib/python3.11/site-packages (from qiskit>=1.1.0->qiskit_ibm_runtime) (0.3.9)\n",
      "Requirement already satisfied: stevedore>=3.0.0 in /opt/conda/lib/python3.11/site-packages (from qiskit>=1.1.0->qiskit_ibm_runtime) (5.3.0)\n",
      "Requirement already satisfied: symengine<0.14,>=0.11 in /opt/conda/lib/python3.11/site-packages (from qiskit>=1.1.0->qiskit_ibm_runtime) (0.13.0)\n",
      "Requirement already satisfied: charset-normalizer<4,>=2 in /opt/conda/lib/python3.11/site-packages (from requests>=2.19->qiskit_ibm_runtime) (3.3.2)\n",
      "Requirement already satisfied: idna<4,>=2.5 in /opt/conda/lib/python3.11/site-packages (from requests>=2.19->qiskit_ibm_runtime) (3.7)\n",
      "Requirement already satisfied: certifi>=2017.4.17 in /opt/conda/lib/python3.11/site-packages (from requests>=2.19->qiskit_ibm_runtime) (2024.2.2)\n",
      "Requirement already satisfied: cryptography>=1.3 in /opt/conda/lib/python3.11/site-packages (from requests-ntlm>=1.1.0->qiskit_ibm_runtime) (42.0.7)\n",
      "Collecting pyspnego>=0.4.0 (from requests-ntlm>=1.1.0->qiskit_ibm_runtime)\n",
      "  Downloading pyspnego-0.11.1-py3-none-any.whl.metadata (5.4 kB)\n",
      "Requirement already satisfied: cffi>=1.12 in /opt/conda/lib/python3.11/site-packages (from cryptography>=1.3->requests-ntlm>=1.1.0->qiskit_ibm_runtime) (1.16.0)\n",
      "Requirement already satisfied: PyJWT<3.0.0,>=2.8.0 in /opt/conda/lib/python3.11/site-packages (from ibm-cloud-sdk-core<4.0.0,>=3.22.0->ibm-platform-services>=0.22.6->qiskit_ibm_runtime) (2.8.0)\n",
      "Requirement already satisfied: pbr>=2.0.0 in /opt/conda/lib/python3.11/site-packages (from stevedore>=3.0.0->qiskit>=1.1.0->qiskit_ibm_runtime) (6.1.0)\n",
      "Requirement already satisfied: mpmath<1.4,>=1.1.0 in /opt/conda/lib/python3.11/site-packages (from sympy>=1.3->qiskit>=1.1.0->qiskit_ibm_runtime) (1.3.0)\n",
      "Requirement already satisfied: pycparser in /opt/conda/lib/python3.11/site-packages (from cffi>=1.12->cryptography>=1.3->requests-ntlm>=1.1.0->qiskit_ibm_runtime) (2.22)\n",
      "Downloading qiskit_ibm_runtime-0.31.0-py3-none-any.whl (2.9 MB)\n",
      "\u001b[2K   \u001b[90m━━━━━━━━━━━━━━━━━━━━━━━━━━━━━━━━━━━━━━━━\u001b[0m \u001b[32m2.9/2.9 MB\u001b[0m \u001b[31m32.9 MB/s\u001b[0m eta \u001b[36m0:00:00\u001b[0m\n",
      "\u001b[?25hDownloading ibm_platform_services-0.58.0-py3-none-any.whl (340 kB)\n",
      "Downloading requests_ntlm-1.3.0-py3-none-any.whl (6.6 kB)\n",
      "Downloading ibm_cloud_sdk_core-3.22.0-py3-none-any.whl (69 kB)\n",
      "Downloading pyspnego-0.11.1-py3-none-any.whl (130 kB)\n",
      "Installing collected packages: ibm-cloud-sdk-core, pyspnego, ibm-platform-services, requests-ntlm, qiskit_ibm_runtime\n",
      "Successfully installed ibm-cloud-sdk-core-3.22.0 ibm-platform-services-0.58.0 pyspnego-0.11.1 qiskit_ibm_runtime-0.31.0 requests-ntlm-1.3.0\n",
      "Requirement already satisfied: matplotlib in /opt/conda/lib/python3.11/site-packages (3.9.2)\n",
      "Requirement already satisfied: contourpy>=1.0.1 in /opt/conda/lib/python3.11/site-packages (from matplotlib) (1.3.0)\n",
      "Requirement already satisfied: cycler>=0.10 in /opt/conda/lib/python3.11/site-packages (from matplotlib) (0.12.1)\n",
      "Requirement already satisfied: fonttools>=4.22.0 in /opt/conda/lib/python3.11/site-packages (from matplotlib) (4.54.1)\n",
      "Requirement already satisfied: kiwisolver>=1.3.1 in /opt/conda/lib/python3.11/site-packages (from matplotlib) (1.4.7)\n",
      "Requirement already satisfied: numpy>=1.23 in /opt/conda/lib/python3.11/site-packages (from matplotlib) (1.26.4)\n",
      "Requirement already satisfied: packaging>=20.0 in /opt/conda/lib/python3.11/site-packages (from matplotlib) (24.0)\n",
      "Requirement already satisfied: pillow>=8 in /opt/conda/lib/python3.11/site-packages (from matplotlib) (11.0.0)\n",
      "Requirement already satisfied: pyparsing>=2.3.1 in /opt/conda/lib/python3.11/site-packages (from matplotlib) (3.2.0)\n",
      "Requirement already satisfied: python-dateutil>=2.7 in /opt/conda/lib/python3.11/site-packages (from matplotlib) (2.9.0)\n",
      "Requirement already satisfied: six>=1.5 in /opt/conda/lib/python3.11/site-packages (from python-dateutil>=2.7->matplotlib) (1.16.0)\n",
      "Collecting pylatexenc\n",
      "  Using cached pylatexenc-2.10-py3-none-any.whl\n",
      "Installing collected packages: pylatexenc\n",
      "Successfully installed pylatexenc-2.10\n",
      "Collecting git+https://github.com/qiskit-community/Quantum-Challenge-Grader.git\n",
      "  Cloning https://github.com/qiskit-community/Quantum-Challenge-Grader.git to /tmp/pip-req-build-l4yq5ui0\n",
      "  Running command git clone --filter=blob:none --quiet https://github.com/qiskit-community/Quantum-Challenge-Grader.git /tmp/pip-req-build-l4yq5ui0\n",
      "  Resolved https://github.com/qiskit-community/Quantum-Challenge-Grader.git to commit c481fa96741396aa368a8f857275cf24f65124c4\n",
      "  Preparing metadata (setup.py) ... \u001b[?25ldone\n",
      "\u001b[?25hCollecting typeguard (from qc_grader==0.20.2)\n",
      "  Downloading typeguard-4.3.0-py3-none-any.whl.metadata (3.7 kB)\n",
      "Collecting jsonpickle==3.0.3 (from qc_grader==0.20.2)\n",
      "  Downloading jsonpickle-3.0.3-py3-none-any.whl.metadata (7.3 kB)\n",
      "Collecting ipycytoscape (from qc_grader==0.20.2)\n",
      "  Downloading ipycytoscape-1.3.3-py2.py3-none-any.whl.metadata (7.5 kB)\n",
      "Collecting plotly (from qc_grader==0.20.2)\n",
      "  Downloading plotly-5.24.1-py3-none-any.whl.metadata (7.3 kB)\n",
      "Collecting networkx==3.2.1 (from qc_grader==0.20.2)\n",
      "  Downloading networkx-3.2.1-py3-none-any.whl.metadata (5.2 kB)\n",
      "Collecting graphviz (from qc_grader==0.20.2)\n",
      "  Downloading graphviz-0.20.3-py3-none-any.whl.metadata (12 kB)\n",
      "Requirement already satisfied: ipywidgets>=7.6.0 in /opt/conda/lib/python3.11/site-packages (from ipycytoscape->qc_grader==0.20.2) (8.1.5)\n",
      "Collecting spectate>=1.0.0 (from ipycytoscape->qc_grader==0.20.2)\n",
      "  Downloading spectate-1.0.1-py2.py3-none-any.whl.metadata (2.2 kB)\n",
      "Requirement already satisfied: tenacity>=6.2.0 in /opt/conda/lib/python3.11/site-packages (from plotly->qc_grader==0.20.2) (8.5.0)\n",
      "Requirement already satisfied: packaging in /opt/conda/lib/python3.11/site-packages (from plotly->qc_grader==0.20.2) (24.0)\n",
      "Requirement already satisfied: typing-extensions>=4.10.0 in /opt/conda/lib/python3.11/site-packages (from typeguard->qc_grader==0.20.2) (4.11.0)\n",
      "Requirement already satisfied: comm>=0.1.3 in /opt/conda/lib/python3.11/site-packages (from ipywidgets>=7.6.0->ipycytoscape->qc_grader==0.20.2) (0.2.2)\n",
      "Requirement already satisfied: ipython>=6.1.0 in /opt/conda/lib/python3.11/site-packages (from ipywidgets>=7.6.0->ipycytoscape->qc_grader==0.20.2) (8.24.0)\n",
      "Requirement already satisfied: traitlets>=4.3.1 in /opt/conda/lib/python3.11/site-packages (from ipywidgets>=7.6.0->ipycytoscape->qc_grader==0.20.2) (5.14.3)\n",
      "Requirement already satisfied: widgetsnbextension~=4.0.12 in /opt/conda/lib/python3.11/site-packages (from ipywidgets>=7.6.0->ipycytoscape->qc_grader==0.20.2) (4.0.13)\n",
      "Requirement already satisfied: jupyterlab-widgets~=3.0.12 in /opt/conda/lib/python3.11/site-packages (from ipywidgets>=7.6.0->ipycytoscape->qc_grader==0.20.2) (3.0.13)\n",
      "Requirement already satisfied: decorator in /opt/conda/lib/python3.11/site-packages (from ipython>=6.1.0->ipywidgets>=7.6.0->ipycytoscape->qc_grader==0.20.2) (5.1.1)\n",
      "Requirement already satisfied: jedi>=0.16 in /opt/conda/lib/python3.11/site-packages (from ipython>=6.1.0->ipywidgets>=7.6.0->ipycytoscape->qc_grader==0.20.2) (0.19.1)\n",
      "Requirement already satisfied: matplotlib-inline in /opt/conda/lib/python3.11/site-packages (from ipython>=6.1.0->ipywidgets>=7.6.0->ipycytoscape->qc_grader==0.20.2) (0.1.7)\n",
      "Requirement already satisfied: prompt-toolkit<3.1.0,>=3.0.41 in /opt/conda/lib/python3.11/site-packages (from ipython>=6.1.0->ipywidgets>=7.6.0->ipycytoscape->qc_grader==0.20.2) (3.0.42)\n",
      "Requirement already satisfied: pygments>=2.4.0 in /opt/conda/lib/python3.11/site-packages (from ipython>=6.1.0->ipywidgets>=7.6.0->ipycytoscape->qc_grader==0.20.2) (2.18.0)\n",
      "Requirement already satisfied: stack-data in /opt/conda/lib/python3.11/site-packages (from ipython>=6.1.0->ipywidgets>=7.6.0->ipycytoscape->qc_grader==0.20.2) (0.6.2)\n",
      "Requirement already satisfied: pexpect>4.3 in /opt/conda/lib/python3.11/site-packages (from ipython>=6.1.0->ipywidgets>=7.6.0->ipycytoscape->qc_grader==0.20.2) (4.9.0)\n",
      "Requirement already satisfied: parso<0.9.0,>=0.8.3 in /opt/conda/lib/python3.11/site-packages (from jedi>=0.16->ipython>=6.1.0->ipywidgets>=7.6.0->ipycytoscape->qc_grader==0.20.2) (0.8.4)\n",
      "Requirement already satisfied: ptyprocess>=0.5 in /opt/conda/lib/python3.11/site-packages (from pexpect>4.3->ipython>=6.1.0->ipywidgets>=7.6.0->ipycytoscape->qc_grader==0.20.2) (0.7.0)\n",
      "Requirement already satisfied: wcwidth in /opt/conda/lib/python3.11/site-packages (from prompt-toolkit<3.1.0,>=3.0.41->ipython>=6.1.0->ipywidgets>=7.6.0->ipycytoscape->qc_grader==0.20.2) (0.2.13)\n",
      "Requirement already satisfied: executing>=1.2.0 in /opt/conda/lib/python3.11/site-packages (from stack-data->ipython>=6.1.0->ipywidgets>=7.6.0->ipycytoscape->qc_grader==0.20.2) (2.0.1)\n",
      "Requirement already satisfied: asttokens>=2.1.0 in /opt/conda/lib/python3.11/site-packages (from stack-data->ipython>=6.1.0->ipywidgets>=7.6.0->ipycytoscape->qc_grader==0.20.2) (2.4.1)\n",
      "Requirement already satisfied: pure-eval in /opt/conda/lib/python3.11/site-packages (from stack-data->ipython>=6.1.0->ipywidgets>=7.6.0->ipycytoscape->qc_grader==0.20.2) (0.2.2)\n",
      "Requirement already satisfied: six>=1.12.0 in /opt/conda/lib/python3.11/site-packages (from asttokens>=2.1.0->stack-data->ipython>=6.1.0->ipywidgets>=7.6.0->ipycytoscape->qc_grader==0.20.2) (1.16.0)\n",
      "Downloading jsonpickle-3.0.3-py3-none-any.whl (40 kB)\n",
      "Downloading networkx-3.2.1-py3-none-any.whl (1.6 MB)\n",
      "\u001b[2K   \u001b[90m━━━━━━━━━━━━━━━━━━━━━━━━━━━━━━━━━━━━━━━━\u001b[0m \u001b[32m1.6/1.6 MB\u001b[0m \u001b[31m19.6 MB/s\u001b[0m eta \u001b[36m0:00:00\u001b[0m\n",
      "\u001b[?25hDownloading graphviz-0.20.3-py3-none-any.whl (47 kB)\n",
      "Downloading ipycytoscape-1.3.3-py2.py3-none-any.whl (3.6 MB)\n",
      "\u001b[2K   \u001b[90m━━━━━━━━━━━━━━━━━━━━━━━━━━━━━━━━━━━━━━━━\u001b[0m \u001b[32m3.6/3.6 MB\u001b[0m \u001b[31m55.1 MB/s\u001b[0m eta \u001b[36m0:00:00\u001b[0m\n",
      "\u001b[?25hDownloading plotly-5.24.1-py3-none-any.whl (19.1 MB)\n",
      "\u001b[2K   \u001b[90m━━━━━━━━━━━━━━━━━━━━━━━━━━━━━━━━━━━━━━━━\u001b[0m \u001b[32m19.1/19.1 MB\u001b[0m \u001b[31m106.9 MB/s\u001b[0m eta \u001b[36m0:00:00\u001b[0m\n",
      "\u001b[?25hDownloading typeguard-4.3.0-py3-none-any.whl (35 kB)\n",
      "Downloading spectate-1.0.1-py2.py3-none-any.whl (11 kB)\n",
      "Building wheels for collected packages: qc_grader\n",
      "  Building wheel for qc_grader (setup.py) ... \u001b[?25ldone\n",
      "\u001b[?25h  Created wheel for qc_grader: filename=qc_grader-0.20.2-py3-none-any.whl size=44584 sha256=89c33a74b11b9e9d1ed0b9127c35353ac64b3a05339a3a9c9324cf56a7c5596d\n",
      "  Stored in directory: /tmp/pip-ephem-wheel-cache-qh6fxnwe/wheels/56/7f/8b/c045ba8136342d5e0361484d7e6e0d24f9b78fda267a8b47a5\n",
      "Successfully built qc_grader\n",
      "Installing collected packages: typeguard, spectate, plotly, networkx, jsonpickle, graphviz, ipycytoscape, qc_grader\n",
      "Successfully installed graphviz-0.20.3 ipycytoscape-1.3.3 jsonpickle-3.0.3 networkx-3.2.1 plotly-5.24.1 qc_grader-0.20.2 spectate-1.0.1 typeguard-4.3.0\n"
     ]
    }
   ],
   "source": [
    "### Install the other required packages as well\n",
    "\n",
    "!pip install qiskit_aer\n",
    "!pip install qiskit_ibm_runtime\n",
    "!pip install matplotlib\n",
    "!pip install pylatexenc\n",
    "!pip install git+https://github.com/qiskit-community/Quantum-Challenge-Grader.git"
   ]
  },
  {
   "cell_type": "code",
   "execution_count": 3,
   "id": "97b10fec-0a7d-40fc-a385-1cc7ed3575b0",
   "metadata": {},
   "outputs": [
    {
     "name": "stdout",
     "output_type": "stream",
     "text": [
      "env: QXToken=9e7240fafceff3dc5a74ca9f4e29a7b19a71ca982b3d001db777e52256b576bf01e7878fbf8c3a23e9c0838471f0810458a04669effb4ba5e4f687b5d40d7673\n"
     ]
    }
   ],
   "source": [
    "%set_env QXToken=9e7240fafceff3dc5a74ca9f4e29a7b19a71ca982b3d001db777e52256b576bf01e7878fbf8c3a23e9c0838471f0810458a04669effb4ba5e4f687b5d40d7673"
   ]
  },
  {
   "cell_type": "code",
   "execution_count": 4,
   "id": "09853763-1df0-4b06-94a0-8f4ac8858dcd",
   "metadata": {},
   "outputs": [
    {
     "ename": "NameError",
     "evalue": "name 'one' is not defined",
     "output_type": "error",
     "traceback": [
      "\u001b[0;31m---------------------------------------------------------------------------\u001b[0m",
      "\u001b[0;31mNameError\u001b[0m                                 Traceback (most recent call last)",
      "Cell \u001b[0;32mIn[4], line 1\u001b[0m\n\u001b[0;32m----> 1\u001b[0m answer \u001b[38;5;241m=\u001b[39m \u001b[43mone\u001b[49m\n",
      "\u001b[0;31mNameError\u001b[0m: name 'one' is not defined"
     ]
    }
   ],
   "source": [
    "answer = one"
   ]
  },
  {
   "cell_type": "code",
   "execution_count": 5,
   "id": "81b56096-e0ad-4add-9ffb-1b7c97b98046",
   "metadata": {},
   "outputs": [],
   "source": [
    "### Imports\n",
    "\n",
    "from qiskit import QuantumCircuit\n",
    "from qiskit.quantum_info import SparsePauliOp\n",
    "from qiskit_ibm_runtime import EstimatorV2 as Estimator\n",
    "from qiskit_aer import AerSimulator\n",
    "import matplotlib.pyplot as plt\n",
    "from qc_grader.challenges.fall_fest24 import grade_lab1_ex1, grade_lab1_welcome"
   ]
  },
  {
   "cell_type": "code",
   "execution_count": 6,
   "id": "fec2dbe2-5399-43b8-8655-54a167dc94f7",
   "metadata": {},
   "outputs": [],
   "source": [
    "answer=\"one\""
   ]
  },
  {
   "cell_type": "code",
   "execution_count": 7,
   "id": "c5351984-10bb-4053-aefe-3b7f6d0f9902",
   "metadata": {},
   "outputs": [
    {
     "name": "stdout",
     "output_type": "stream",
     "text": [
      "Grading your answer. Please wait...\n",
      "Welcome to the Qiskit Fall Fest!🎉If you are seeing this, that means you have successfully figured out how to use the grader for these notebooks. Rock on. We at IBM Quantum look forward to your participation in this event, thanks for being here!\n"
     ]
    }
   ],
   "source": [
    "grade_lab1_welcome(answer)"
   ]
  },
  {
   "cell_type": "code",
   "execution_count": 8,
   "id": "c3d9cd21-88f3-4e6b-b898-4f0a16e853c6",
   "metadata": {},
   "outputs": [
    {
     "data": {
      "image/png": "[encoded data removed]",
      "text/plain": [
       "<Figure size 287.294x200.667 with 1 Axes>"
      ]
     },
     "execution_count": 8,
     "metadata": {},
     "output_type": "execute_result"
    }
   ],
   "source": [
    "# Create a new circuit with two qubits\n",
    "qc = QuantumCircuit(2)\n",
    "\n",
    "# Add a Hadamard gate to qubit 0\n",
    "qc.h(0)\n",
    "\n",
    "# Perform a CNOT gate on qubit 1, controlled by qubit 0\n",
    "qc.cx(0, 1)\n",
    "\n",
    "# Return a drawing of the circuit using MatPlotLib (\"mpl\"). This is the\n",
    "# last line of the cell, so the drawing appears in the cell output.\n",
    "qc.draw(\"mpl\")"
   ]
  },
  {
   "cell_type": "code",
   "execution_count": 10,
   "id": "14f4d410-3209-4a92-a94c-1cbb0f8638b7",
   "metadata": {},
   "outputs": [],
   "source": [
    "# The ZZ applies a Z operator on qubit 0, and a Z operator on qubit 1\n",
    "ZZ = SparsePauliOp('ZZ')\n",
    "\n",
    "# The ZI applies a Z operator on qubit 0, and an Identity operator on qubit 1\n",
    "ZI = SparsePauliOp('ZI')\n",
    "\n",
    "# The IX applies an Identity operator on qubit 0, and an X operator on qubit 1\n",
    "IX = SparsePauliOp('IX')\n",
    "\n",
    "\n",
    "IZ=SparsePauliOp('IZ')\n",
    "XI=SparsePauliOp('XI')\n",
    "XX=SparsePauliOp('XX')\n",
    "### Write your code below here ###\n",
    "### Follow the same naming convention we used above\n",
    "\n",
    "\n",
    "\n",
    "\n",
    "## Don't change any code past this line, but remember to run the cell.\n",
    "\n",
    "observables = [IZ, IX, ZI, XI, ZZ, XX]"
   ]
  },
  {
   "cell_type": "code",
   "execution_count": 11,
   "id": "d2e8e094-fb48-431c-a25e-d075129c9e9b",
   "metadata": {},
   "outputs": [
    {
     "name": "stdout",
     "output_type": "stream",
     "text": [
      "Grading your answer. Please wait...\n",
      "\n",
      "Congratulations 🎉! Your answer is correct.\n"
     ]
    }
   ],
   "source": [
    "# Submit your answer using following code\n",
    "\n",
    "grade_lab1_ex1(observables)"
   ]
  },
  {
   "cell_type": "code",
   "execution_count": null,
   "id": "b87870b3-5113-453a-97fd-b0a8df43a1ad",
   "metadata": {},
   "outputs": [],
   "source": []
  },
  {
   "cell_type": "code",
   "execution_count": 12,
   "id": "d3579b9d-5631-458e-b9fe-000b10aa8c88",
   "metadata": {},
   "outputs": [],
   "source": [
    "# Set up the Estimator\n",
    "estimator = Estimator(AerSimulator())\n",
    "\n",
    "# Submit the circuit to Estimator\n",
    "pub = (qc, observables)\n",
    "\n",
    "job = estimator.run(pubs=[pub])"
   ]
  },
  {
   "cell_type": "code",
   "execution_count": 13,
   "id": "1ae0f0f2-e76b-4d8e-9aaf-d2f205a01721",
   "metadata": {},
   "outputs": [
    {
     "data": {
      "image/png": "[encoded data removed]",
      "text/plain": [
       "<Figure size 640x480 with 1 Axes>"
      ]
     },
     "metadata": {},
     "output_type": "display_data"
    }
   ],
   "source": [
    "# Collect the data\n",
    "data = ['IZ', 'IX', 'ZI', 'XI', 'ZZ', 'XX']\n",
    "values = job.result()[0].data.evs\n",
    "\n",
    "# Set up our graph\n",
    "container = plt.plot(data, values, '-o')\n",
    "\n",
    "# Label each axis\n",
    "plt.xlabel('Observables')\n",
    "plt.ylabel('Values')\n",
    "\n",
    "# Draw the final graph\n",
    "plt.show()"
   ]
  },
  {
   "cell_type": "code",
   "execution_count": 14,
   "id": "9046c4a5-a74e-42a5-89be-0fad85277dd9",
   "metadata": {},
   "outputs": [
    {
     "data": {
      "image/png": "[encoded data removed]",
      "text/plain": [
       "<Figure size 640x480 with 1 Axes>"
      ]
     },
     "metadata": {},
     "output_type": "display_data"
    }
   ],
   "source": [
    "container = plt.bar(data, values, width=0.8)\n",
    "\n",
    "plt.xlabel('Observables')\n",
    "plt.ylabel('Values')\n",
    "\n",
    "plt.show()"
   ]
  },
  {
   "cell_type": "code",
   "execution_count": null,
   "id": "caf0583f-29ea-490d-977d-90e5e0f996d5",
   "metadata": {},
   "outputs": [],
   "source": []
  }
 ],
 "metadata": {
  "kernelspec": {
   "display_name": "Python 3 [qBraid]",
   "language": "python",
   "name": "python3_qbraid_sdk_9j9sjy"
  },
  "language_info": {
   "codemirror_mode": {
    "name": "ipython",
    "version": 3
   },
   "file_extension": ".py",
   "mimetype": "text/x-python",
   "name": "python",
   "nbconvert_exporter": "python",
   "pygments_lexer": "ipython3",
   "version": "3.11.9"
  }
 },
 "nbformat": 4,
 "nbformat_minor": 5
}
